{
 "cells": [
  {
   "cell_type": "markdown",
   "id": "c723e9cd",
   "metadata": {},
   "source": [
    "# OOP in Python\n",
    "In this notebook, I will be assuming you have some idea about OOP. Whether that is in another language or just more abstractly, either is fine.\n",
    "\n",
    "## What is an OOP?\n",
    "OOP is a programming paradigm based around organising your code into **objects** that comprise both data and associated functionality. A simple exmaple could be a sprite in a game. This sprite will have some data associated with it, such as the current location, the colour of its hair etc. It could also have some associated functions, such as one to move the sprite one position forwards. This paradigm can be very powerful when used appropriately.\n",
    "\n",
    "In Python, everything is in fact an object (even a class is an object, an instance of a _metaclass_, but more on that another time). This in itself is also very powerful and can make for some interesting patterns. So the question then is, how do you make an object? For this we need a class.\n",
    "\n",
    "## What is a class?\n",
    "A class is a 'blue print' for an object. It tells the interpreter how to construct an object, what attiributes and methods it should have. To define a class in Python, the following syntax is used:\n"
   ]
  },
  {
   "cell_type": "code",
   "execution_count": 1,
   "id": "0dd8789e",
   "metadata": {},
   "outputs": [],
   "source": [
    "class Sprite:\n",
    "    pass"
   ]
  },
  {
   "cell_type": "markdown",
   "id": "dfb0bfaa",
   "metadata": {},
   "source": [
    "Here we are creating a class called `Sprite`. This is class would create some pretty boring objects that don't do a lot. So lets make it create an object with two pieces of data associated with it, `x` and `y`:"
   ]
  },
  {
   "cell_type": "code",
   "execution_count": 2,
   "id": "47ad69dd",
   "metadata": {},
   "outputs": [],
   "source": [
    "class Sprite:\n",
    "    def __init__(self, x: int, y: int) -> None:\n",
    "        self.x = x\n",
    "        self.y = y"
   ]
  },
  {
   "cell_type": "markdown",
   "id": "5b24ad49",
   "metadata": {},
   "source": [
    "Now we have suddenly added some crazy looking syntax that may not entirely make sense to begin with. We have defined a function called `__init__`. This is a method in Python that is roughly equivalent to a constructor in C++. What it does is tell the interpreter how we want to initially construct the object. \n",
    "\n",
    "We give it three agruments here. The first is `self`, which is actually a variable that represents the object instance itself (similar to `this` in C++). This may seem a bit weird if you have worked with other languages before because generally this is passed to any methods under-the-hood. Its reason should become clear shortly. \n",
    "The next two arguments are `x` and `y` (we will ignore the syntactic sugar `: int` for now). We are then setting `self.x = x` and `self.y = `. What does this mean?\n",
    "\n",
    "Here we are setting an attribute of `self`, accessed using the `.` operator, equal to one of the constructor arguments. \n",
    "\n",
    "Now, to instantiate an instance of the class `Sprite`, we can use the following syntax:"
   ]
  },
  {
   "cell_type": "code",
   "execution_count": 3,
   "id": "8b5dd335",
   "metadata": {},
   "outputs": [
    {
     "name": "stdout",
     "output_type": "stream",
     "text": [
      "0\n",
      "0\n"
     ]
    }
   ],
   "source": [
    "sprite_1 = Sprite(0,0)\n",
    "print(sprite_1.x)\n",
    "print(sprite_1.y)"
   ]
  },
  {
   "cell_type": "markdown",
   "id": "9d1bbb15",
   "metadata": {},
   "source": [
    "Here, we have created an instance of the `Sprite` class with the value 0 for `x` and `y`, assigned it to the variable `sprite_1` and then printed the `x` and `y` attributes.\n",
    "\n",
    "Now, to make things more interesting, we can define a class method to move the sprite. Lets say we want a function to move the sprite some distance in the x direction. We can create a function that belongs to the object, known as a `method`:"
   ]
  },
  {
   "cell_type": "code",
   "execution_count": 4,
   "id": "989e5a1d",
   "metadata": {},
   "outputs": [],
   "source": [
    "class Sprite:\n",
    "    def __init__(self, x: int, y: int) -> None:\n",
    "        self.x = x\n",
    "        self.y = y\n",
    "        \n",
    "    def move_x(self, distance: int) -> None:\n",
    "        self.x += distance"
   ]
  },
  {
   "cell_type": "markdown",
   "id": "c8115bd0",
   "metadata": {},
   "source": [
    "We can then instantiate a new instance of the class and call the `move_x` method:"
   ]
  },
  {
   "cell_type": "code",
   "execution_count": 5,
   "id": "5973f47a",
   "metadata": {},
   "outputs": [
    {
     "name": "stdout",
     "output_type": "stream",
     "text": [
      "0\n",
      "0\n",
      "sprite x after move_x = 1\n"
     ]
    }
   ],
   "source": [
    "sprite_2 = Sprite(0,0)\n",
    "print(sprite_2.x)\n",
    "print(sprite_2.y)\n",
    "\n",
    "sprite_2.move_x(1)\n",
    "print(f\"sprite x after move_x = {sprite_2.x}\")"
   ]
  },
  {
   "cell_type": "markdown",
   "id": "72b984e4",
   "metadata": {},
   "source": [
    "We have now used the `move_x` method to increment our object attribute `x` by 1.\n",
    "\n",
    "## Summary of classes and objects\n",
    "In summary, a class is a blue print that defines hows you want the interpreter to construct your object. An object is an instance of a class. We have seen how you can define object attributes by assigning values using `self` and the `.` operator. We have also seen how to define methods that can interact with attributes of the object.\n",
    "\n",
    "We have talked about object attributes and methods (object functions), but what about class attributes and methods? Do they exist? Yes is the answer and they demonstrate nicely the difference between a class and an object. \n",
    "\n",
    "Lets take another simple example:"
   ]
  },
  {
   "cell_type": "code",
   "execution_count": 6,
   "id": "213ad1fa",
   "metadata": {},
   "outputs": [
    {
     "name": "stdout",
     "output_type": "stream",
     "text": [
      "1001\n",
      "1001\n",
      "1002\n",
      "1001\n"
     ]
    }
   ],
   "source": [
    "class Foo:\n",
    "    a = 1000\n",
    "    def __init__(self) -> None:\n",
    "        self.b = 1000\n",
    "    \n",
    "    def inc_a(self) -> None:\n",
    "        Foo.a += 1\n",
    "        \n",
    "    def inc_b(self) -> None:\n",
    "        self.b += 1\n",
    "\n",
    "foo_1 = Foo()\n",
    "foo_2 = Foo()\n",
    "\n",
    "# increment a and b for foo_1\n",
    "foo_1.inc_a()\n",
    "foo_1.inc_b()\n",
    "print(foo_1.a)\n",
    "print(foo_1.b)\n",
    "\n",
    "# same for foo_2\n",
    "foo_2.inc_a()\n",
    "foo_2.inc_b()\n",
    "print(foo_2.a)\n",
    "print(foo_2.b)\n",
    "    "
   ]
  },
  {
   "cell_type": "markdown",
   "id": "10a14ecf",
   "metadata": {},
   "source": [
    "What is going on here? We have defined `a` as a class attribute meaning it is bound to the class and not the object. There is only a single class so when we increment `a` from our two different instances of `Foo`, they are both incrementing the same variable. An inspection into the memory locations my help:"
   ]
  },
  {
   "cell_type": "code",
   "execution_count": 7,
   "id": "48f533b4",
   "metadata": {},
   "outputs": [
    {
     "name": "stdout",
     "output_type": "stream",
     "text": [
      "foo_1.a: 0x7fb0b7938750\n",
      "foo_2.a: 0x7fb0b7938750\n",
      "foo_1.b: 0x7fb0b7938870\n",
      "foo_2.b: 0x7fb0b7938810\n"
     ]
    }
   ],
   "source": [
    "print(f\"foo_1.a: {hex(id(foo_1.a))}\")\n",
    "print(f\"foo_2.a: {hex(id(foo_2.a))}\")\n",
    "\n",
    "\n",
    "print(f\"foo_1.b: {hex(id(foo_1.b))}\")\n",
    "print(f\"foo_2.b: {hex(id(foo_2.b))}\")"
   ]
  },
  {
   "cell_type": "markdown",
   "id": "24ebdef2",
   "metadata": {},
   "source": [
    "We see that both of the `a` attributes are at the same memory address but the `b` are different!(Bonus points if you can explain why I used the number 1000 as the inital value of the attributes and not 0)\n",
    "\n",
    "Hopefully this has demonstrated the difference between a class and object attribute. Similarly, class methods also exist. These have their own syntax which we will demonstrate with another example below:"
   ]
  },
  {
   "cell_type": "code",
   "execution_count": 8,
   "id": "00d37f92",
   "metadata": {},
   "outputs": [
    {
     "name": "stdout",
     "output_type": "stream",
     "text": [
      "pug\n",
      "pug\n"
     ]
    }
   ],
   "source": [
    "class Dog:\n",
    "    def __init__(self, breed: str) -> None:\n",
    "        self.breed = breed\n",
    "    \n",
    "    @classmethod\n",
    "    def pug(cls) -> 'Dog':\n",
    "        return cls(\"pug\")\n",
    "\n",
    "\n",
    "dog_1 = Dog(\"pug\")\n",
    "print(dog_1.breed)\n",
    "\n",
    "\n",
    "dog_2 = Dog.pug()\n",
    "print(dog_2.breed)\n"
   ]
  },
  {
   "cell_type": "markdown",
   "id": "dc718b9c",
   "metadata": {},
   "source": [
    "There is a bit going on here. First we have defined a new class called `Dog`. This class has one object data attribute called `breed` which is set in the constructor. We then have a function which looks slightly different to our methods. Firstly, there is `@classmethod` above the function defenition. This is called a decorator, a funtion that takes a function as an argument and also returns a function. More on those another time. In this case, the decorator means that the function below it will not take the object instance as the first argument, but instead the class. We then return an instance of the class with the breed constructor argument set to \"pug\". Class methods are often used in this way and are known as factory methods.\n",
    "\n",
    "\n",
    "## Types and classes\n",
    "In modern Python (since Python 2.2), types and classes are the same thing. A type will generally refer to a built-in type (int for example), but you can consider a user defined class as a type too. The change came when Python moved to a new version of classes which inherit from the the base class `object`. To differentiate between new and old style classes, a new syntax was invented."
   ]
  },
  {
   "cell_type": "code",
   "execution_count": 9,
   "id": "31e4b539",
   "metadata": {},
   "outputs": [],
   "source": [
    "# In Python 2, this would create an old style class\n",
    "class MyClass:\n",
    "    pass\n",
    "\n",
    "# In Python 2/3 this would create a new style class\n",
    "class MyClass(object):\n",
    "    pass\n"
   ]
  },
  {
   "cell_type": "markdown",
   "id": "832b3d72",
   "metadata": {},
   "source": [
    "Once this change came about, types and classes became the same thing. Now, since Python 3, all classes are new style classes and therefore automatically inherit from `object`. Because of this, there is no longer the need to use the second syntax shown above. You can use the first one and the class will automatically inherit from `object`.\n",
    "\n",
    "### On inheritance and `super()`\n",
    "I won't go into a full explanation of inheritance here but the general idea is you can inherit from a base class to share similar functionality or data with a subclass. The syntax is as follows:"
   ]
  },
  {
   "cell_type": "code",
   "execution_count": 10,
   "id": "9e8e05fa",
   "metadata": {},
   "outputs": [
    {
     "name": "stdout",
     "output_type": "stream",
     "text": [
      "{'name': 'bob', 'age': 54}\n",
      "{'name': 'nigel', 'age': 22, 'course': 'OOP in Python'}\n"
     ]
    }
   ],
   "source": [
    "class Person:\n",
    "    def __init__(self, name: str, age: int) -> None:\n",
    "        self.name = name\n",
    "        self.age = age\n",
    "\n",
    "        \n",
    "class Student(Person):\n",
    "    def __init__(self, name: str, age: int, course: str) -> None:\n",
    "        # Python 3\n",
    "        super().__init__(name, age)\n",
    "        self.course = course\n",
    "        \n",
    "bob = Person(\"bob\", 54)\n",
    "bobs_son = Student(\"nigel\", 22, \"OOP in Python\")\n",
    "\n",
    "# A quick way of showing the object attributes\n",
    "print(bob.__dict__)\n",
    "print(bobs_son.__dict__)"
   ]
  },
  {
   "cell_type": "markdown",
   "id": "06d3045a",
   "metadata": {},
   "source": [
    "Here, we can see that the `Student` class inherits the `name` and `age` attributes from `Person`. You can do this using the `super` function which allows you to access the super class. \n",
    "\n",
    "Since Python 3, the above syntax has been the way to do this. In Python 2, the syntax was slightly different and is shown below:"
   ]
  },
  {
   "cell_type": "code",
   "execution_count": 11,
   "id": "fb40638a",
   "metadata": {},
   "outputs": [],
   "source": [
    "class Student(Person):\n",
    "    def __init__(self, name: str, age: int, course: str) -> None:\n",
    "        # Python 2\n",
    "        super(Student, self).__init__(name, age)\n",
    "        self.course = course"
   ]
  },
  {
   "cell_type": "markdown",
   "id": "d013f9df",
   "metadata": {},
   "source": [
    "We now no longer need to supply the type and object as arguments to super. If you see this in any course material, ignore it and use Python 3 syntax!\n",
    "\n",
    "\n",
    "\n",
    "## On the four pillars of OOP in Python\n",
    "You may have (hopefully) heard of the four pillars of OOP. These are as follows:\n",
    " 1. Encapsulation: the hiding of private attributes behind some public method (getters, and setters)\n",
    " 2. Abstraction: hiding complexity of function implementation behind simple methods\n",
    " 3. Inheritance: reusing functionality from other classes \n",
    " 4. Polymorphism: a single entity that can provide functionality to multiple types\n",
    " \n",
    "I want to breifly discuss how these can be used in Python (except for inheritance, see above).\n",
    "\n",
    "### Encapsulation\n",
    "The idea of public and private attributes does not really exist in Python like they do in other languages. Every attribute of an object is public. We can however use some conventions and syntactic sugar to implement this. Take the following example:\n"
   ]
  },
  {
   "cell_type": "code",
   "execution_count": 12,
   "id": "9469b266",
   "metadata": {},
   "outputs": [],
   "source": [
    "class Foo:\n",
    "    def __init__(self, bar: int) -> None:\n",
    "        self._bar = bar\n",
    "    \n",
    "    @property\n",
    "    def bar(self) -> int:\n",
    "        return self._bar\n",
    "    \n",
    "    @bar.setter\n",
    "    def bar(self, value: int) -> None:\n",
    "        if value > 0:\n",
    "            self._bar = value\n",
    "        else:\n",
    "            print(\"Value must be greater than 0.\")"
   ]
  },
  {
   "cell_type": "markdown",
   "id": "61bdf4d9",
   "metadata": {},
   "source": [
    "We have used the convention that any attribute prefixed with a `_` is a **protected** attribute. When we say protected here, we are using the C++ definition whereby a protected attribute is only accessibe within the class or subclass. In reality, any attribute is accessible, we would just need to call `Foo._bar` instead of `Foo.bar` but this convention lets the developer know that they shouldn't be.\n",
    "\n",
    "To create our setters and getter, we can use the `property` decorator. We can then wrap include any additional logic around the protected attributes to allow for safe access and assignment. The above syntax allows you to access the attributes in the following way:"
   ]
  },
  {
   "cell_type": "code",
   "execution_count": 13,
   "id": "911b9c0d",
   "metadata": {},
   "outputs": [
    {
     "name": "stdout",
     "output_type": "stream",
     "text": [
      "1\n",
      "5\n",
      "Value must be greater than 0.\n"
     ]
    }
   ],
   "source": [
    "foo = Foo(1)\n",
    "print(foo.bar)\n",
    "foo.bar = 5\n",
    "print(foo.bar)\n",
    "foo.bar = -1"
   ]
  },
  {
   "cell_type": "markdown",
   "id": "ee4dbd70",
   "metadata": {},
   "source": [
    "Similarly to protected attributes, there is a convention for **private** attributes too. Here, a private attribute is one accessible by its own class only. In this case, we prefix the attribute with two underscores `__`.  "
   ]
  },
  {
   "cell_type": "code",
   "execution_count": 14,
   "id": "9c014182",
   "metadata": {},
   "outputs": [
    {
     "name": "stdout",
     "output_type": "stream",
     "text": [
      "{'_Bar__foo': 1}\n"
     ]
    }
   ],
   "source": [
    "class Bar:\n",
    "    def __init__(self, foo: int) -> None:\n",
    "        self.__foo = foo\n",
    "\n",
    "        \n",
    "bar = Bar(1)\n",
    "print(bar.__dict__)"
   ]
  },
  {
   "cell_type": "markdown",
   "id": "845d6167",
   "metadata": {},
   "source": [
    "Here, we can see that Python actually changes the name of the private attribute by prefixing it with the class name! This then stops any clashes of attribute names in subclasses.\n",
    "\n",
    "\n",
    "### Side note on objects in Python\n",
    "Generally for most objects, you can see all the attributes bound to is by inspecting the `object.__dict__` attribute. There are cases where this is not true however, I won't go into that here. You can also use the function `dir(object)` to see all of the attributes and properties of the object (including the class and any super classes)."
   ]
  },
  {
   "cell_type": "code",
   "execution_count": 15,
   "id": "aecbd3d7",
   "metadata": {},
   "outputs": [
    {
     "name": "stdout",
     "output_type": "stream",
     "text": [
      "dir(bar): ['_Bar__foo', '__class__', '__delattr__', '__dict__', '__dir__', '__doc__', '__eq__', '__format__', '__ge__', '__getattribute__', '__gt__', '__hash__', '__init__', '__init_subclass__', '__le__', '__lt__', '__module__', '__ne__', '__new__', '__reduce__', '__reduce_ex__', '__repr__', '__setattr__', '__sizeof__', '__str__', '__subclasshook__', '__weakref__']\n",
      "\n",
      "\n",
      "bar.__dict__: ['_Bar__foo']\n",
      "\n",
      "\n",
      "Bar.__dict__: ['__module__', '__init__', '__dict__', '__weakref__', '__doc__']\n",
      "\n",
      "\n",
      "object.__dict__: ['__repr__', '__hash__', '__str__', '__getattribute__', '__setattr__', '__delattr__', '__lt__', '__le__', '__eq__', '__ne__', '__gt__', '__ge__', '__init__', '__new__', '__reduce_ex__', '__reduce__', '__subclasshook__', '__init_subclass__', '__format__', '__sizeof__', '__dir__', '__class__', '__doc__']\n"
     ]
    },
    {
     "data": {
      "text/plain": [
       "True"
      ]
     },
     "execution_count": 15,
     "metadata": {},
     "output_type": "execute_result"
    }
   ],
   "source": [
    "print(f\"dir(bar): {dir(bar)}\\n\\n\")\n",
    "print(f\"bar.__dict__: {list(bar.__dict__)}\\n\\n\")\n",
    "print(f\"Bar.__dict__: {list(Bar.__dict__)}\\n\\n\")\n",
    "print(f\"object.__dict__: {list(object.__dict__)}\")\n",
    "\n",
    "set(list(bar.__dict__) + list(Bar.__dict__) + list(object.__dict__)) == set(dir(bar))"
   ]
  },
  {
   "cell_type": "markdown",
   "id": "pleasant-parts",
   "metadata": {},
   "source": [
    "### Abstraction\n",
    "Abstraction can be implemented in Pyton using the `abc` module. You can implement an abstract class with the following syntax:"
   ]
  },
  {
   "cell_type": "code",
   "execution_count": 7,
   "id": "constant-filling",
   "metadata": {},
   "outputs": [],
   "source": [
    "import abc\n",
    "\n",
    "class FooAbstractClass(abc.ABC):\n",
    "    @abc.abstractmethod\n",
    "    def my_method(self):\n",
    "        pass\n",
    "    \n",
    "class Foo(FooAbstractClass):\n",
    "    def my_method(self) -> None:\n",
    "        print(\"my method\")\n"
   ]
  },
  {
   "cell_type": "markdown",
   "id": "still-average",
   "metadata": {},
   "source": [
    "By inheriting from `abc.ABC`, it forces you to override the abstract method in your class. If you do not, you will get an error:"
   ]
  },
  {
   "cell_type": "code",
   "execution_count": 8,
   "id": "bearing-casino",
   "metadata": {},
   "outputs": [
    {
     "ename": "TypeError",
     "evalue": "Can't instantiate abstract class Bar with abstract methods my_method",
     "output_type": "error",
     "traceback": [
      "\u001b[0;31m---------------------------------------------------------------------------\u001b[0m",
      "\u001b[0;31mTypeError\u001b[0m                                 Traceback (most recent call last)",
      "\u001b[0;32m<ipython-input-8-8fac23a5ffc7>\u001b[0m in \u001b[0;36m<module>\u001b[0;34m\u001b[0m\n\u001b[1;32m      3\u001b[0m         \u001b[0mprint\u001b[0m\u001b[0;34m(\u001b[0m\u001b[0;34m\"my other method\"\u001b[0m\u001b[0;34m)\u001b[0m\u001b[0;34m\u001b[0m\u001b[0;34m\u001b[0m\u001b[0m\n\u001b[1;32m      4\u001b[0m \u001b[0;34m\u001b[0m\u001b[0m\n\u001b[0;32m----> 5\u001b[0;31m \u001b[0mbar\u001b[0m \u001b[0;34m=\u001b[0m \u001b[0mBar\u001b[0m\u001b[0;34m(\u001b[0m\u001b[0;34m)\u001b[0m\u001b[0;34m\u001b[0m\u001b[0;34m\u001b[0m\u001b[0m\n\u001b[0m",
      "\u001b[0;31mTypeError\u001b[0m: Can't instantiate abstract class Bar with abstract methods my_method"
     ]
    }
   ],
   "source": [
    "class Bar(FooAbstractClass):\n",
    "    def my_other_method(self):\n",
    "        print(\"my other method\")\n",
    "        \n",
    "bar = Bar()"
   ]
  },
  {
   "cell_type": "markdown",
   "id": "ahead-excellence",
   "metadata": {},
   "source": [
    "### Polymorphism\n",
    "Polymorphism is much simpler in Python than in C++ because you do not need to worry about subclass types being compatible with the base class type. This would be done with virtual functionsPolymorphism can be implemented simply by overriding function methods in subclasses:"
   ]
  },
  {
   "cell_type": "code",
   "execution_count": null,
   "id": "oriental-checkout",
   "metadata": {},
   "outputs": [],
   "source": [
    "class Shape:\n",
    "    def __init__(self, width: float, height: float) -> None:\n",
    "        self.width = width\n",
    "        self.height = height\n",
    "    \n",
    "    def area(self) -> None:\n",
    "        print(\"Makes no sense! I don't know which shape I am!!\")\n",
    "    \n",
    "    \n",
    "class Rectangle(Shape):\n",
    "    def __init__(self, width: float, height: float) -> None:\n",
    "        super().__init__(width, height)\n",
    "    \n",
    "    def area(self) -> float:\n",
    "        return self.width * self.height\n",
    "\n",
    "    \n",
    "class Triangle(Shape):\n",
    "    def __init__(self, width: float, height: float) -> None:\n",
    "        super().__init__(width, height)\n",
    "    \n",
    "    def area(self) -> float:\n",
    "        return self.width * self.height / 2"
   ]
  },
  {
   "cell_type": "markdown",
   "id": "2c660696",
   "metadata": {},
   "source": [
    "## Typing and Python\n",
    "One of the reasons Python is quite so popular with beginners is that it is dynamically typed. What this means is you do not need to give the type of a variable when you declare it. For instance in C++, a statically typed language, you would need to write something like this:\n",
    "\n",
    "```cpp\n",
    "int add(int x, int y){\n",
    "    return x + y;\n",
    "}\n",
    "\n",
    "int main(){\n",
    "    int x = 1;\n",
    "    std::vector<int> y = {1,2,3};\n",
    "\n",
    "}\n",
    "\n",
    "```\n",
    "In Python however, we do not need to worry about supplying the type:"
   ]
  },
  {
   "cell_type": "code",
   "execution_count": 16,
   "id": "720701e9",
   "metadata": {},
   "outputs": [],
   "source": [
    "def add(x, y):\n",
    "    return x + y\n",
    "\n",
    "def main():\n",
    "    x = 1\n",
    "    y = [1,2,3]"
   ]
  },
  {
   "cell_type": "markdown",
   "id": "07cb4698",
   "metadata": {},
   "source": [
    "This is great for many things because you do not need to worry about the types ahead of time. You can even change the type a variable is. But this can become a problem when trying to write bug-free and production quality code. Similarly, when someone else wants to come along and read or use your code, it can be difficult to know what is going on. To help with this, since Python 3.5, type hints have been introduced. You may have noticed these on the code above and the syntax is as follows:\n"
   ]
  },
  {
   "cell_type": "code",
   "execution_count": 17,
   "id": "648f59bb",
   "metadata": {},
   "outputs": [],
   "source": [
    "def add(x: int, y: int) -> int:\n",
    "    return x + y\n",
    "\n",
    "def main():\n",
    "    x: int = 1\n",
    "    y: list = [1,2,3]"
   ]
  },
  {
   "cell_type": "markdown",
   "id": "68f453bb",
   "metadata": {},
   "source": [
    "We use the `:` in the function arguments to specify what the type should be. We can then use `->` after the function defenition to specify the return type. You can also specify the type of declared variables using the `:`. In vanilla Python, these type hints are exactly that, hints. This is not static typing. It is merely help to the user to let them know what the developer intended the types to be.\n",
    "\n",
    "If you do want to make this more like static typing, you can use things like [mypy](https://mypy.readthedocs.io/en/stable/) which runs over your source code and will highlight any instances where there is no typing or the types are incompatible. It is often tricky to get this working properly for large complex code bases. It can even require metaclasses and all sorts of advanced Python tricks. \n",
    "\n",
    "\n",
    "## Docstrings\n",
    "On the topic of making things easier for other people reading or using your code, docstrings are a great tool to do that. Look at [Google Pyton docstrings](https://sphinxcontrib-napoleon.readthedocs.io/en/latest/example_google.html) for some an idea of how to use them."
   ]
  },
  {
   "cell_type": "code",
   "execution_count": 18,
   "id": "ce105b4a",
   "metadata": {},
   "outputs": [],
   "source": [
    "class Sprite:\n",
    "    \"\"\"A Sprite class for our super cool game\"\"\"\n",
    "    def __init__(self, x: int, y: int) -> None:\n",
    "        \"\"\"Instantiates the Sprite class\n",
    "        \n",
    "        Args:\n",
    "            x (int): The x position of the sprite\n",
    "            y (int): The y position of the sprite\n",
    "         \n",
    "        Returns:\n",
    "            None\n",
    "        \"\"\"\n",
    "        self.x = x\n",
    "        self.y = y\n",
    "        \n",
    "    def move_x(self, distance: int) -> None:\n",
    "        \"\"\"Moves the x location along by some distance specified\n",
    "        \n",
    "        Args:\n",
    "            distance (int): The distance to move the sprite in the x direction\n",
    "         \n",
    "        Returns:\n",
    "            None\n",
    "        \"\"\"\n",
    "        self.x += distance"
   ]
  },
  {
   "cell_type": "markdown",
   "id": "cc71ddfa",
   "metadata": {},
   "source": [
    "## Coding style in Python\n",
    "There are some general rules for how one should write Python code. The standard bible is [PEP8](https://www.python.org/dev/peps/pep-0008/), written by the Python developers. This is a good base for how you should be writing your Python, from naming conventions to whitespace formatting.\n",
    "A variation on this is the [Google Python Style Guide](https://google.github.io/styleguide/pyguide.html). This is the one I follow more closely than PEP8.\n",
    "Often projects will enforce formatting with formatters such as [Black](https://github.com/psf/black) or [YAPF](https://github.com/google/yapf) (Yet Another Python Formatter). Black is, in its own words, an uncomprimising formatter. It takes away all control of formatting from the developer and blanket applies PEP8. This means all code looks exactly the same regardless of who wrote it. This makes reading a large code base much easier. YAPF is similar but allows for a bit more in the way of customisability. I haven't personally used YAPF much so cannot comment in detail.\n",
    "\n",
    "On the same vain, there are also linters that tell you where parts of your code may not be ahdering to a given standard (normally PEP8). A commonly used one is [flake8](https://flake8.pycqa.org/en/latest/). \n",
    "\n",
    "In most build pipelines, both linters and formatters will be used to enforce some sembelence of consistency across all code committed to a repository. Consistent code conventions, formatting and style improves both the readability and quality of code.\n"
   ]
  }
 ],
 "metadata": {
  "kernelspec": {
   "display_name": "wsb-fund",
   "language": "python",
   "name": "wsb-fund"
  }
 },
 "nbformat": 4,
 "nbformat_minor": 5
}
